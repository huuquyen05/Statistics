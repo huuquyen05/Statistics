{
 "cells": [
  {
   "cell_type": "code",
   "execution_count": 1,
   "id": "c2b853fc",
   "metadata": {},
   "outputs": [],
   "source": [
    "import numpy as np\n",
    "import math\n",
    "from scipy.stats import norm\n",
    "import matplotlib.pyplot as plt"
   ]
  },
  {
   "cell_type": "code",
   "execution_count": 2,
   "id": "6222988f",
   "metadata": {},
   "outputs": [
    {
     "name": "stdout",
     "output_type": "stream",
     "text": [
      "[ 4.77707629  3.97887245  1.91059204  0.82428186 -0.49735925  2.99992936\n",
      "  1.37333885  1.47678303  1.28120602  1.07167685  1.04932488  1.45412712\n",
      "  1.76688798  3.12327557  4.27562488  2.37197762  3.23557936 -0.94895095\n",
      " -0.5148174   1.94931652]\n",
      "[ 3.58915685  2.70123135  4.29544811  3.207272    5.07011502  3.20005266\n",
      "  1.35612183  2.17187755  3.00263427  3.84804328  3.46574768  2.58905819\n",
      "  3.08598059  1.00382131  1.23552231  0.86259718  0.27255408  1.03158957\n",
      "  2.49404662 -0.31423179 -1.36360258  1.54581053  5.31448738  1.94548484\n",
      "  3.13257071  0.90262791  3.64780289 -0.7525316   0.72323828  0.49435313]\n"
     ]
    }
   ],
   "source": [
    "n = 20\n",
    "m = 30\n",
    "N = n + m\n",
    "X = np.random.normal(loc = 2, scale = math.sqrt(3), size = n)\n",
    "Y = np.random.normal(loc = 2, scale = math.sqrt(3), size = m) # same sample\n",
    "print(X)\n",
    "print(Y)"
   ]
  },
  {
   "cell_type": "markdown",
   "id": "b2fdfe94",
   "metadata": {},
   "source": [
    "$\n",
    "X_1, X_2,\\ldots, X_{n} \\overset{\\mathrm{iid}}{\\sim} F \\\\\n",
    "Y_1, Y_2,\\ldots, Y_{m} \\overset{\\mathrm{iid}}{\\sim} G \\\\\n",
    "m + n = N\n",
    "$\n",
    "\n",
    "We need to test:\n",
    "\n",
    "$\n",
    "H_0: F = G \\\\\n",
    "H_1: F(\\cdot) = G(\\cdot + \\theta)\n",
    "$\n",
    "\n",
    "with $\\theta > 0$\n",
    "\n",
    "Define the Wilcoxon rank-sum statistics:\n",
    "\n",
    "$\\hat{T} = \\sum_{i=1}^n V(X_i)$, where $V(X_i)$ is the rank of $X_i$ in the pooled sample.\n",
    "\n",
    "Under $H_0$, we have: $E(\\hat{T}) = n\\cdot\\frac{N+1}{2}$, $Var(\\hat{T}) = \\frac{nm(N+1)}{12}$, and:\n",
    "\n",
    "$\\hat{V} = \\frac{\\hat{T} - E(\\hat{T})}{\\sqrt{Var(\\hat{T})}} \\rightarrow N(0, 1)$\n",
    "\n",
    "Since $\\theta > 0$, under $H_1$, $\\mu_F < \\mu_G$, so $R_\\alpha = (-\\infty, -Z_\\alpha]$, and $\\hat{p} = \\phi(\\hat{V})$"
   ]
  },
  {
   "cell_type": "code",
   "execution_count": 3,
   "id": "f6956c66",
   "metadata": {},
   "outputs": [
    {
     "name": "stdout",
     "output_type": "stream",
     "text": [
      "Stats is: -0.47527082062880366, p-value is 0.3172969771507489\n"
     ]
    }
   ],
   "source": [
    "pooled = np.concatenate([X, Y])\n",
    "pooled.sort()\n",
    "\n",
    "rank = []\n",
    "for x in X:\n",
    "    for i in range(len(pooled)):\n",
    "        if x == pooled[i]:\n",
    "            rank.append(i + 1)\n",
    "            break\n",
    "\n",
    "T = sum(rank)\n",
    "E_T = n * (N + 1) / 2\n",
    "Var_T = n * m * (N + 1) / 12\n",
    "V = (T - E_T) / math.sqrt(Var_T)\n",
    "\n",
    "p = norm.cdf(V)\n",
    "\n",
    "print(f\"Stats is: {V}, p-value is {p}\")"
   ]
  },
  {
   "cell_type": "code",
   "execution_count": 4,
   "id": "503bbbf6",
   "metadata": {},
   "outputs": [
    {
     "data": {
      "text/plain": [
       "(array([ 9., 14.,  8., 11.,  6., 10.,  8., 14.,  5., 15.]),\n",
       " array([0.00665493, 0.10559124, 0.20452755, 0.30346386, 0.40240017,\n",
       "        0.50133648, 0.6002728 , 0.69920911, 0.79814542, 0.89708173,\n",
       "        0.99601804]),\n",
       " <BarContainer object of 10 artists>)"
      ]
     },
     "execution_count": 4,
     "metadata": {},
     "output_type": "execute_result"
    },
    {
     "data": {
      "image/png": "[encoded data removed]",
      "text/plain": [
       "<Figure size 640x480 with 1 Axes>"
      ]
     },
     "metadata": {},
     "output_type": "display_data"
    }
   ],
   "source": [
    "p_array = []\n",
    "for _ in range(100):\n",
    "    X = np.random.normal(loc = 2, scale = math.sqrt(3), size = n)\n",
    "    Y = np.random.normal(loc = 2, scale = math.sqrt(3), size = m)\n",
    "    pooled = np.concatenate([X, Y])\n",
    "    pooled.sort()\n",
    "\n",
    "    rank = []\n",
    "    for x in X:\n",
    "        for i in range(len(pooled)):\n",
    "            if x == pooled[i]:\n",
    "                rank.append(i + 1)\n",
    "                break\n",
    "\n",
    "    T = sum(rank)\n",
    "    E_T = n * (N + 1) / 2\n",
    "    Var_T = n * m * (N + 1) / 12\n",
    "    V = (T - E_T) / math.sqrt(Var_T)\n",
    "\n",
    "    p = norm.cdf(V)\n",
    "    p_array.append(p)\n",
    "\n",
    "plt.hist(p_array)\n",
    "\n",
    "# Since H_0 is true, the distribution of p-values converges to U(0, 1)"
   ]
  },
  {
   "cell_type": "code",
   "execution_count": 5,
   "id": "011598e8",
   "metadata": {},
   "outputs": [
    {
     "data": {
      "text/plain": [
       "(array([70., 19.,  6.,  1.,  2.,  1.,  0.,  0.,  0.,  1.]),\n",
       " array([8.40912480e-05, 9.29353416e-02, 1.85786592e-01, 2.78637842e-01,\n",
       "        3.71489093e-01, 4.64340343e-01, 5.57191593e-01, 6.50042844e-01,\n",
       "        7.42894094e-01, 8.35745344e-01, 9.28596595e-01]),\n",
       " <BarContainer object of 10 artists>)"
      ]
     },
     "execution_count": 5,
     "metadata": {},
     "output_type": "execute_result"
    },
    {
     "data": {
      "image/png": "[encoded data removed]",
      "text/plain": [
       "<Figure size 640x480 with 1 Axes>"
      ]
     },
     "metadata": {},
     "output_type": "display_data"
    }
   ],
   "source": [
    "p_array = []\n",
    "for _ in range(100):\n",
    "    X = np.random.normal(loc = 2, scale = math.sqrt(3), size = n)\n",
    "    Y = np.random.normal(loc = 3, scale = math.sqrt(3), size = m)\n",
    "    pooled = np.concatenate([X, Y])\n",
    "    pooled.sort()\n",
    "\n",
    "    rank = []\n",
    "    for x in X:\n",
    "        for i in range(len(pooled)):\n",
    "            if x == pooled[i]:\n",
    "                rank.append(i + 1)\n",
    "                break\n",
    "\n",
    "    T = sum(rank)\n",
    "    E_T = n * (N + 1) / 2\n",
    "    Var_T = n * m * (N + 1) / 12\n",
    "    V = (T - E_T) / math.sqrt(Var_T)\n",
    "\n",
    "    p = norm.cdf(V)\n",
    "    p_array.append(p)\n",
    "\n",
    "plt.hist(p_array)\n",
    "\n",
    "# Since H_0 is false, p-value converges to 0"
   ]
  }
 ],
 "metadata": {
  "kernelspec": {
   "display_name": "Python 3 (ipykernel)",
   "language": "python",
   "name": "python3"
  },
  "language_info": {
   "codemirror_mode": {
    "name": "ipython",
    "version": 3
   },
   "file_extension": ".py",
   "mimetype": "text/x-python",
   "name": "python",
   "nbconvert_exporter": "python",
   "pygments_lexer": "ipython3",
   "version": "3.11.4"
  }
 },
 "nbformat": 4,
 "nbformat_minor": 5
}
