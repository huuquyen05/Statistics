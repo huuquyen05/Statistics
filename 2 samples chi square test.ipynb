{
 "cells": [
  {
   "cell_type": "code",
   "execution_count": 23,
   "id": "e548be4f",
   "metadata": {},
   "outputs": [],
   "source": [
    "import numpy as np\n",
    "from scipy.stats import chi2"
   ]
  },
  {
   "cell_type": "markdown",
   "id": "e03abd2b",
   "metadata": {},
   "source": [
    "### Chi-square test for independence"
   ]
  },
  {
   "cell_type": "code",
   "execution_count": 12,
   "id": "ba233dfa",
   "metadata": {},
   "outputs": [],
   "source": [
    "data = [\n",
    "    98, 363, 153,\n",
    "    165, 443, 128\n",
    "]\n",
    "data = np.reshape(data, (2, 3))"
   ]
  },
  {
   "cell_type": "code",
   "execution_count": 15,
   "id": "6bb14070",
   "metadata": {},
   "outputs": [
    {
     "name": "stdout",
     "output_type": "stream",
     "text": [
      "[614, 736] [263, 806, 281] 1350\n"
     ]
    }
   ],
   "source": [
    "X = [sum(row) for row in data]\n",
    "Y = [data[0][i] + data[1][i] for i in range(3)]\n",
    "n = sum(X)\n",
    "print(X, Y, n)"
   ]
  },
  {
   "cell_type": "markdown",
   "id": "c035874a",
   "metadata": {},
   "source": [
    "$H_0$ : the attitude towards banks has no difference from man to women \n",
    "\n",
    "$H_1$ : the attitude towards banks has some difference from man to women\n",
    "\n",
    "We need to test if X and Y are independent ($H_0$) or not.\n",
    "\n",
    "Define the test statistics:\n",
    "$$\n",
    "X^2 = \\sum_i \\sum_j \\frac{(y_{ij} - \\hat{\\mu}_{ij, 0})^2}{\\hat{\\mu}_{ij, 0}} \\\\\n",
    "\\hat{\\mu}_{ij, 0} = \\frac{y_{i+} y_{+j}}{n}\n",
    "$$\n",
    "\n",
    "$X^2$ follows $\\chi^2_{(I-1)(J-1)}$ under $H_0$"
   ]
  },
  {
   "cell_type": "code",
   "execution_count": 20,
   "id": "268dfc56",
   "metadata": {},
   "outputs": [
    {
     "data": {
      "text/plain": [
       "array([[119.6162963 , 366.58074074, 127.80296296],\n",
       "       [143.3837037 , 439.41925926, 153.19703704]])"
      ]
     },
     "execution_count": 20,
     "metadata": {},
     "output_type": "execute_result"
    }
   ],
   "source": [
    "estimate = [i * j / n for i in X for j in Y]\n",
    "estimate = np.reshape(estimate, (2, 3))\n",
    "estimate"
   ]
  },
  {
   "cell_type": "code",
   "execution_count": 22,
   "id": "340efa03",
   "metadata": {},
   "outputs": [
    {
     "data": {
      "text/plain": [
       "16.341358487091433"
      ]
     },
     "execution_count": 22,
     "metadata": {},
     "output_type": "execute_result"
    }
   ],
   "source": [
    "test = 0\n",
    "for i in range(2):\n",
    "    for j in range(3):\n",
    "        test += (data[i][j] - estimate[i][j]) ** 2 / estimate[i][j]\n",
    "test"
   ]
  },
  {
   "cell_type": "markdown",
   "id": "314c48ba",
   "metadata": {},
   "source": [
    "$$\n",
    "R(\\alpha) = [\\chi^2_{(I-1)(J-1),\\alpha}, +\\infty) \\\\\n",
    "\\hat{p} = 1 - F_{\\chi^2_{(I-1)(J-1),\\alpha}}(X^2)\n",
    "$$"
   ]
  },
  {
   "cell_type": "code",
   "execution_count": 25,
   "id": "19c80db3",
   "metadata": {},
   "outputs": [
    {
     "data": {
      "text/plain": [
       "0.00028282584355676654"
      ]
     },
     "execution_count": 25,
     "metadata": {},
     "output_type": "execute_result"
    }
   ],
   "source": [
    "p = 1 - chi2.cdf(test, df = (2 - 1) * (3 - 1))\n",
    "p"
   ]
  },
  {
   "cell_type": "markdown",
   "id": "7b2272ef",
   "metadata": {},
   "source": [
    "$\\hat{p} < \\alpha$ so we reject $H_0$"
   ]
  },
  {
   "cell_type": "code",
   "execution_count": null,
   "id": "f8bba152",
   "metadata": {},
   "outputs": [],
   "source": []
  }
 ],
 "metadata": {
  "kernelspec": {
   "display_name": "Python 3 (ipykernel)",
   "language": "python",
   "name": "python3"
  },
  "language_info": {
   "codemirror_mode": {
    "name": "ipython",
    "version": 3
   },
   "file_extension": ".py",
   "mimetype": "text/x-python",
   "name": "python",
   "nbconvert_exporter": "python",
   "pygments_lexer": "ipython3",
   "version": "3.11.4"
  }
 },
 "nbformat": 4,
 "nbformat_minor": 5
}
